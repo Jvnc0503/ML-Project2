{
 "cells": [
  {
   "cell_type": "markdown",
   "id": "daf06d60",
   "metadata": {},
   "source": [
    "# Dataset Preprocessing"
   ]
  },
  {
   "cell_type": "markdown",
   "id": "abcd2903",
   "metadata": {},
   "source": [
    "## Enviroment Setup"
   ]
  },
  {
   "cell_type": "code",
   "execution_count": null,
   "id": "1053697e",
   "metadata": {},
   "outputs": [],
   "source": [
    "%pip install pandas numpy requests Pillow dotenv"
   ]
  },
  {
   "cell_type": "code",
   "execution_count": 2,
   "id": "a64f15db",
   "metadata": {},
   "outputs": [],
   "source": [
    "import pandas as pd\n",
    "import numpy as np\n",
    "import requests\n",
    "from PIL import Image\n",
    "from io import BytesIO\n",
    "import os\n",
    "import re\n",
    "from typing import Optional\n",
    "import time\n",
    "from dotenv import load_dotenv"
   ]
  },
  {
   "cell_type": "markdown",
   "id": "e702d848",
   "metadata": {},
   "source": [
    "## Visualizing data"
   ]
  },
  {
   "cell_type": "code",
   "execution_count": 3,
   "id": "71a04c2f",
   "metadata": {},
   "outputs": [
    {
     "name": "stdout",
     "output_type": "stream",
     "text": [
      "Movies Train: (6819, 23) \n",
      "    movieId                             title          genres  \\\n",
      "0      619                         Ed (1996)          Comedy   \n",
      "1    33826                Saint Ralph (2004)    Comedy|Drama   \n",
      "2     1298       Pink Floyd: The Wall (1982)   Drama|Musical   \n",
      "3   140289              Men & Chicken (2015)    Comedy|Drama   \n",
      "4     3064  Poison Ivy: New Seduction (1997)  Drama|Thriller   \n",
      "\n",
      "   (no genres listed)  Action  Adventure  Animation  Children  Comedy  Crime  \\\n",
      "0                   0       0          0          0         0       1      0   \n",
      "1                   0       0          0          0         0       1      0   \n",
      "2                   0       0          0          0         0       0      0   \n",
      "3                   0       0          0          0         0       1      0   \n",
      "4                   0       0          0          0         0       0      0   \n",
      "\n",
      "   ...  Film-Noir  Horror  IMAX  Musical  Mystery  Romance  Sci-Fi  Thriller  \\\n",
      "0  ...          0       0     0        0        0        0       0         0   \n",
      "1  ...          0       0     0        0        0        0       0         0   \n",
      "2  ...          0       0     0        1        0        0       0         0   \n",
      "3  ...          0       0     0        0        0        0       0         0   \n",
      "4  ...          0       0     0        0        0        0       0         1   \n",
      "\n",
      "   War  Western  \n",
      "0    0        0  \n",
      "1    0        0  \n",
      "2    0        0  \n",
      "3    0        0  \n",
      "4    0        0  \n",
      "\n",
      "[5 rows x 23 columns] \n",
      " Index(['movieId', 'title', 'genres', '(no genres listed)', 'Action',\n",
      "       'Adventure', 'Animation', 'Children', 'Comedy', 'Crime', 'Documentary',\n",
      "       'Drama', 'Fantasy', 'Film-Noir', 'Horror', 'IMAX', 'Musical', 'Mystery',\n",
      "       'Romance', 'Sci-Fi', 'Thriller', 'War', 'Western'],\n",
      "      dtype='object')\n",
      "\n",
      "Movies Test: (2923, 2) \n",
      "    movieId                                   title\n",
      "0    45635       Notorious Bettie Page, The (2005)\n",
      "1     1373  Star Trek V: The Final Frontier (1989)\n",
      "2     7325                  Starsky & Hutch (2004)\n",
      "3      389              Colonel Chabert, Le (1994)\n",
      "4     8920                Country Girl, The (1954) \n",
      " Index(['movieId', 'title'], dtype='object')\n"
     ]
    }
   ],
   "source": [
    "movies_train = pd.read_csv('data/movies_train.csv')\n",
    "movies_test = pd.read_csv('data/movies_test.csv')\n",
    "\n",
    "print(\"Movies Train:\", movies_train.shape, '\\n', movies_train.head(), '\\n', movies_train.columns)\n",
    "print(\"\\nMovies Test:\", movies_test.shape, '\\n', movies_test.head(), '\\n', movies_test.columns)"
   ]
  },
  {
   "cell_type": "code",
   "execution_count": 4,
   "id": "b897a3e7",
   "metadata": {},
   "outputs": [
    {
     "name": "stdout",
     "output_type": "stream",
     "text": [
      "Movielens Movies: (62423, 3) \n",
      "    movieId                               title  \\\n",
      "0        1                    Toy Story (1995)   \n",
      "1        2                      Jumanji (1995)   \n",
      "2        3             Grumpier Old Men (1995)   \n",
      "3        4            Waiting to Exhale (1995)   \n",
      "4        5  Father of the Bride Part II (1995)   \n",
      "\n",
      "                                        genres  \n",
      "0  Adventure|Animation|Children|Comedy|Fantasy  \n",
      "1                   Adventure|Children|Fantasy  \n",
      "2                               Comedy|Romance  \n",
      "3                         Comedy|Drama|Romance  \n",
      "4                                       Comedy   \n",
      " Index(['movieId', 'title', 'genres'], dtype='object')\n",
      "\n",
      "Movielens Links: (62423, 3) \n",
      "    movieId  imdbId  tmdbId\n",
      "0        1  114709     862\n",
      "1        2  113497    8844\n",
      "2        3  113228   15602\n",
      "3        4  114885   31357\n",
      "4        5  113041   11862 \n",
      " Index(['movieId', 'imdbId', 'tmdbId'], dtype='object')\n"
     ]
    }
   ],
   "source": [
    "movielens_movies = pd.read_csv('ml-25m/movies.csv')\n",
    "movielens_links = pd.read_csv('ml-25m/links.csv')\n",
    "\n",
    "movielens_links['tmdbId'] = movielens_links['tmdbId'].astype('Int64')\n",
    "\n",
    "print(\"Movielens Movies:\", movielens_movies.shape, '\\n', movielens_movies.head(), '\\n', movielens_movies.columns)\n",
    "print(\"\\nMovielens Links:\", movielens_links.shape, '\\n', movielens_links.head(), '\\n', movielens_links.columns)"
   ]
  },
  {
   "cell_type": "markdown",
   "id": "6759c067",
   "metadata": {},
   "source": [
    "## Merge movies_train/test with MovieLens"
   ]
  },
  {
   "cell_type": "code",
   "execution_count": 5,
   "id": "cef6b0b6",
   "metadata": {},
   "outputs": [
    {
     "name": "stdout",
     "output_type": "stream",
     "text": [
      "Merged Train:\n",
      "    movieId                             title          genres\n",
      "0      619                         Ed (1996)          Comedy\n",
      "1    33826                Saint Ralph (2004)    Comedy|Drama\n",
      "2     1298       Pink Floyd: The Wall (1982)   Drama|Musical\n",
      "3   140289              Men & Chicken (2015)    Comedy|Drama\n",
      "4     3064  Poison Ivy: New Seduction (1997)  Drama|Thriller\n",
      "\n",
      "Merged Test:\n",
      "    movieId                                   title  \\\n",
      "0    45635       Notorious Bettie Page, The (2005)   \n",
      "1     1373  Star Trek V: The Final Frontier (1989)   \n",
      "2     7325                  Starsky & Hutch (2004)   \n",
      "3      389              Colonel Chabert, Le (1994)   \n",
      "4     8920                Country Girl, The (1954)   \n",
      "\n",
      "                         genres  \n",
      "0                         Drama  \n",
      "1                 Action|Sci-Fi  \n",
      "2  Action|Comedy|Crime|Thriller  \n",
      "3             Drama|Romance|War  \n",
      "4                         Drama  \n"
     ]
    }
   ],
   "source": [
    "train_merged = movies_train[['movieId']].merge(\n",
    "    movielens_movies,\n",
    "    on='movieId',\n",
    "    how='left'\n",
    ")\n",
    "\n",
    "test_merged = movies_test[['movieId']].merge(\n",
    "    movielens_movies,\n",
    "    on='movieId',\n",
    "    how='left'\n",
    ")\n",
    "\n",
    "print(\"Merged Train:\\n\", train_merged.head())\n",
    "print(\"\\nMerged Test:\\n\", test_merged.head())"
   ]
  },
  {
   "cell_type": "markdown",
   "id": "56a7b34c",
   "metadata": {},
   "source": [
    "## Merge with Links"
   ]
  },
  {
   "cell_type": "code",
   "execution_count": 6,
   "id": "7dcc9bc0",
   "metadata": {},
   "outputs": [
    {
     "name": "stdout",
     "output_type": "stream",
     "text": [
      "Complete Train:\n",
      "    movieId                             title          genres   imdbId  tmdbId\n",
      "0      619                         Ed (1996)          Comedy   116165   32308\n",
      "1    33826                Saint Ralph (2004)    Comedy|Drama   384488   25248\n",
      "2     1298       Pink Floyd: The Wall (1982)   Drama|Musical    84503   12104\n",
      "3   140289              Men & Chicken (2015)    Comedy|Drama  3877674  296313\n",
      "4     3064  Poison Ivy: New Seduction (1997)  Drama|Thriller   119908   18222\n",
      "\n",
      "Complete Test:\n",
      "    movieId                                   title  \\\n",
      "0    45635       Notorious Bettie Page, The (2005)   \n",
      "1     1373  Star Trek V: The Final Frontier (1989)   \n",
      "2     7325                  Starsky & Hutch (2004)   \n",
      "3      389              Colonel Chabert, Le (1994)   \n",
      "4     8920                Country Girl, The (1954)   \n",
      "\n",
      "                         genres  imdbId  tmdbId  \n",
      "0                         Drama  404802   15402  \n",
      "1                 Action|Sci-Fi   98382     172  \n",
      "2  Action|Comedy|Crime|Thriller  335438    9384  \n",
      "3             Drama|Romance|War  109454   41580  \n",
      "4                         Drama   46874    2438  \n"
     ]
    }
   ],
   "source": [
    "train_complete = train_merged.merge(\n",
    "    movielens_links,\n",
    "    on='movieId',\n",
    "    how='inner'\n",
    ")\n",
    "\n",
    "test_complete = test_merged.merge(\n",
    "    movielens_links,\n",
    "    on='movieId',\n",
    "    how='inner'\n",
    ")\n",
    "\n",
    "print(\"Complete Train:\\n\", train_complete.head())\n",
    "print(\"\\nComplete Test:\\n\", test_complete.head())"
   ]
  },
  {
   "cell_type": "markdown",
   "id": "b7b6032b",
   "metadata": {},
   "source": [
    "## Extract years from titles"
   ]
  },
  {
   "cell_type": "code",
   "execution_count": 7,
   "id": "d2a3cabb",
   "metadata": {},
   "outputs": [],
   "source": [
    "def extract_year(title: str) -> Optional[int]:\n",
    "    if pd.isna(title):\n",
    "        return None\n",
    "    match = re.search(r'\\((\\d{4})\\)', title)\n",
    "    return int(match.group(1)) if match else None\n",
    "\n",
    "train_complete['year'] = train_complete['title'].apply(extract_year).astype('Int64')\n",
    "test_complete['year'] = test_complete['title'].apply(extract_year).astype('Int64')"
   ]
  },
  {
   "cell_type": "markdown",
   "id": "c7b48ca3",
   "metadata": {},
   "source": [
    "### Address missing year values"
   ]
  },
  {
   "cell_type": "code",
   "execution_count": 8,
   "id": "f118385f",
   "metadata": {},
   "outputs": [
    {
     "name": "stdout",
     "output_type": "stream",
     "text": [
      "Train missing years: 11\n"
     ]
    },
    {
     "data": {
      "text/html": [
       "<div>\n",
       "<style scoped>\n",
       "    .dataframe tbody tr th:only-of-type {\n",
       "        vertical-align: middle;\n",
       "    }\n",
       "\n",
       "    .dataframe tbody tr th {\n",
       "        vertical-align: top;\n",
       "    }\n",
       "\n",
       "    .dataframe thead th {\n",
       "        text-align: right;\n",
       "    }\n",
       "</style>\n",
       "<table border=\"1\" class=\"dataframe\">\n",
       "  <thead>\n",
       "    <tr style=\"text-align: right;\">\n",
       "      <th></th>\n",
       "      <th>movieId</th>\n",
       "      <th>title</th>\n",
       "      <th>genres</th>\n",
       "      <th>imdbId</th>\n",
       "      <th>tmdbId</th>\n",
       "      <th>year</th>\n",
       "    </tr>\n",
       "  </thead>\n",
       "  <tbody>\n",
       "    <tr>\n",
       "      <th>832</th>\n",
       "      <td>156605</td>\n",
       "      <td>Paterson</td>\n",
       "      <td>(no genres listed)</td>\n",
       "      <td>5247022</td>\n",
       "      <td>370755</td>\n",
       "      <td>&lt;NA&gt;</td>\n",
       "    </tr>\n",
       "    <tr>\n",
       "      <th>2482</th>\n",
       "      <td>171749</td>\n",
       "      <td>Death Note: Desu nôto (2006–2007)</td>\n",
       "      <td>(no genres listed)</td>\n",
       "      <td>877057</td>\n",
       "      <td>419787</td>\n",
       "      <td>&lt;NA&gt;</td>\n",
       "    </tr>\n",
       "    <tr>\n",
       "      <th>3745</th>\n",
       "      <td>171631</td>\n",
       "      <td>Maria Bamford: Old Baby</td>\n",
       "      <td>(no genres listed)</td>\n",
       "      <td>6264596</td>\n",
       "      <td>455601</td>\n",
       "      <td>&lt;NA&gt;</td>\n",
       "    </tr>\n",
       "    <tr>\n",
       "      <th>3752</th>\n",
       "      <td>140956</td>\n",
       "      <td>Ready Player One</td>\n",
       "      <td>Action|Sci-Fi|Thriller</td>\n",
       "      <td>1677720</td>\n",
       "      <td>333339</td>\n",
       "      <td>&lt;NA&gt;</td>\n",
       "    </tr>\n",
       "    <tr>\n",
       "      <th>4269</th>\n",
       "      <td>167570</td>\n",
       "      <td>The OA</td>\n",
       "      <td>(no genres listed)</td>\n",
       "      <td>4635282</td>\n",
       "      <td>432192</td>\n",
       "      <td>&lt;NA&gt;</td>\n",
       "    </tr>\n",
       "    <tr>\n",
       "      <th>4415</th>\n",
       "      <td>171495</td>\n",
       "      <td>Cosmos</td>\n",
       "      <td>(no genres listed)</td>\n",
       "      <td>81846</td>\n",
       "      <td>409926</td>\n",
       "      <td>&lt;NA&gt;</td>\n",
       "    </tr>\n",
       "    <tr>\n",
       "      <th>4459</th>\n",
       "      <td>171891</td>\n",
       "      <td>Generation Iron 2</td>\n",
       "      <td>(no genres listed)</td>\n",
       "      <td>6263642</td>\n",
       "      <td>447818</td>\n",
       "      <td>&lt;NA&gt;</td>\n",
       "    </tr>\n",
       "    <tr>\n",
       "      <th>4627</th>\n",
       "      <td>176601</td>\n",
       "      <td>Black Mirror</td>\n",
       "      <td>(no genres listed)</td>\n",
       "      <td>2492564</td>\n",
       "      <td>452830</td>\n",
       "      <td>&lt;NA&gt;</td>\n",
       "    </tr>\n",
       "    <tr>\n",
       "      <th>5379</th>\n",
       "      <td>147250</td>\n",
       "      <td>The Adventures of Sherlock Holmes and Doctor W...</td>\n",
       "      <td>(no genres listed)</td>\n",
       "      <td>229922</td>\n",
       "      <td>127605</td>\n",
       "      <td>&lt;NA&gt;</td>\n",
       "    </tr>\n",
       "    <tr>\n",
       "      <th>5819</th>\n",
       "      <td>143410</td>\n",
       "      <td>Hyena Road</td>\n",
       "      <td>(no genres listed)</td>\n",
       "      <td>4034452</td>\n",
       "      <td>316042</td>\n",
       "      <td>&lt;NA&gt;</td>\n",
       "    </tr>\n",
       "    <tr>\n",
       "      <th>5881</th>\n",
       "      <td>149334</td>\n",
       "      <td>Nocturnal Animals</td>\n",
       "      <td>Drama|Thriller</td>\n",
       "      <td>4550098</td>\n",
       "      <td>340666</td>\n",
       "      <td>&lt;NA&gt;</td>\n",
       "    </tr>\n",
       "  </tbody>\n",
       "</table>\n",
       "</div>"
      ],
      "text/plain": [
       "      movieId                                              title  \\\n",
       "832    156605                                           Paterson   \n",
       "2482   171749                  Death Note: Desu nôto (2006–2007)   \n",
       "3745   171631                            Maria Bamford: Old Baby   \n",
       "3752   140956                                   Ready Player One   \n",
       "4269   167570                                             The OA   \n",
       "4415   171495                                             Cosmos   \n",
       "4459   171891                                  Generation Iron 2   \n",
       "4627   176601                                       Black Mirror   \n",
       "5379   147250  The Adventures of Sherlock Holmes and Doctor W...   \n",
       "5819   143410                                         Hyena Road   \n",
       "5881   149334                                  Nocturnal Animals   \n",
       "\n",
       "                      genres   imdbId  tmdbId  year  \n",
       "832       (no genres listed)  5247022  370755  <NA>  \n",
       "2482      (no genres listed)   877057  419787  <NA>  \n",
       "3745      (no genres listed)  6264596  455601  <NA>  \n",
       "3752  Action|Sci-Fi|Thriller  1677720  333339  <NA>  \n",
       "4269      (no genres listed)  4635282  432192  <NA>  \n",
       "4415      (no genres listed)    81846  409926  <NA>  \n",
       "4459      (no genres listed)  6263642  447818  <NA>  \n",
       "4627      (no genres listed)  2492564  452830  <NA>  \n",
       "5379      (no genres listed)   229922  127605  <NA>  \n",
       "5819      (no genres listed)  4034452  316042  <NA>  \n",
       "5881          Drama|Thriller  4550098  340666  <NA>  "
      ]
     },
     "metadata": {},
     "output_type": "display_data"
    },
    {
     "name": "stdout",
     "output_type": "stream",
     "text": [
      "Test missing years: 1\n"
     ]
    },
    {
     "data": {
      "text/html": [
       "<div>\n",
       "<style scoped>\n",
       "    .dataframe tbody tr th:only-of-type {\n",
       "        vertical-align: middle;\n",
       "    }\n",
       "\n",
       "    .dataframe tbody tr th {\n",
       "        vertical-align: top;\n",
       "    }\n",
       "\n",
       "    .dataframe thead th {\n",
       "        text-align: right;\n",
       "    }\n",
       "</style>\n",
       "<table border=\"1\" class=\"dataframe\">\n",
       "  <thead>\n",
       "    <tr style=\"text-align: right;\">\n",
       "      <th></th>\n",
       "      <th>movieId</th>\n",
       "      <th>title</th>\n",
       "      <th>genres</th>\n",
       "      <th>imdbId</th>\n",
       "      <th>tmdbId</th>\n",
       "      <th>year</th>\n",
       "    </tr>\n",
       "  </thead>\n",
       "  <tbody>\n",
       "    <tr>\n",
       "      <th>507</th>\n",
       "      <td>162414</td>\n",
       "      <td>Moonlight</td>\n",
       "      <td>Drama</td>\n",
       "      <td>4975722</td>\n",
       "      <td>376867</td>\n",
       "      <td>&lt;NA&gt;</td>\n",
       "    </tr>\n",
       "  </tbody>\n",
       "</table>\n",
       "</div>"
      ],
      "text/plain": [
       "     movieId      title genres   imdbId  tmdbId  year\n",
       "507   162414  Moonlight  Drama  4975722  376867  <NA>"
      ]
     },
     "metadata": {},
     "output_type": "display_data"
    }
   ],
   "source": [
    "train_missing = train_complete[train_complete['year'].isna()]\n",
    "test_missing = test_complete[test_complete['year'].isna()]\n",
    "\n",
    "print(f\"Train missing years: {len(train_missing)}\")\n",
    "display(train_missing)\n",
    "\n",
    "print(f\"Test missing years: {len(test_missing)}\")\n",
    "display(test_missing)"
   ]
  },
  {
   "cell_type": "code",
   "execution_count": 9,
   "id": "aa4025a8",
   "metadata": {},
   "outputs": [
    {
     "name": "stdout",
     "output_type": "stream",
     "text": [
      "Missing years after TMDB lookup: 4 0\n"
     ]
    }
   ],
   "source": [
    "load_dotenv()\n",
    "TMDB_API_KEY = os.getenv('TMDB_API_KEY')\n",
    "BASE_URL = 'https://api.themoviedb.org/3'\n",
    "\n",
    "def get_year_from_tmdb(row) -> Optional[int]:\n",
    "    if pd.notna(row['year']):\n",
    "        return row['year']\n",
    "    \n",
    "    if pd.isna(row['tmdbId']):\n",
    "        return None\n",
    "    \n",
    "    try:\n",
    "        url = f\"{BASE_URL}/movie/{int(row['tmdbId'])}\"\n",
    "        response = requests.get(url, params={'api_key': TMDB_API_KEY}, timeout=10)\n",
    "        \n",
    "        if response.status_code == 200:\n",
    "            release_date = response.json().get('release_date', '')\n",
    "            if release_date:\n",
    "                time.sleep(0.25)\n",
    "                return int(release_date.split('-')[0])\n",
    "        \n",
    "        time.sleep(0.25)\n",
    "        return None\n",
    "    except:\n",
    "        return None\n",
    "\n",
    "train_complete['year'] = train_complete.apply(get_year_from_tmdb, axis=1).astype('Int64') # type: ignore\n",
    "test_complete['year'] = test_complete.apply(get_year_from_tmdb, axis=1).astype('Int64') # type: ignore\n",
    "\n",
    "print(\"Missing years after TMDB lookup:\", train_complete['year'].isna().sum(), test_complete['year'].isna().sum())"
   ]
  },
  {
   "cell_type": "code",
   "execution_count": 10,
   "id": "d26f56ed",
   "metadata": {},
   "outputs": [
    {
     "name": "stdout",
     "output_type": "stream",
     "text": [
      "Missing movies in training set after TMDB lookup:\n",
      "       movieId                                              title  \\\n",
      "2482   171749                  Death Note: Desu nôto (2006–2007)   \n",
      "4269   167570                                             The OA   \n",
      "4415   171495                                             Cosmos   \n",
      "5379   147250  The Adventures of Sherlock Holmes and Doctor W...   \n",
      "\n",
      "                  genres   imdbId  tmdbId  year  \n",
      "2482  (no genres listed)   877057  419787  <NA>  \n",
      "4269  (no genres listed)  4635282  432192  <NA>  \n",
      "4415  (no genres listed)    81846  409926  <NA>  \n",
      "5379  (no genres listed)   229922  127605  <NA>  \n"
     ]
    }
   ],
   "source": [
    "train_missing = train_complete[train_complete['year'].isna()]\n",
    "\n",
    "print(\"Missing movies in training set after TMDB lookup:\\n\", train_missing)"
   ]
  },
  {
   "cell_type": "markdown",
   "id": "3114df3f",
   "metadata": {},
   "source": [
    "After some investigation, I noticed that these four titles are series and not movies, so I would assume is safe to remove them."
   ]
  },
  {
   "cell_type": "code",
   "execution_count": 11,
   "id": "93b1b85e",
   "metadata": {},
   "outputs": [
    {
     "name": "stdout",
     "output_type": "stream",
     "text": [
      "Resulting Train Set:\n",
      " (6615, 6)\n",
      "Resulting Test Set:\n",
      " (2835, 6)\n"
     ]
    }
   ],
   "source": [
    "train_complete = train_complete.dropna(subset=['year'])\n",
    "test_complete = test_complete.dropna(subset=['year'])\n",
    "\n",
    "print(\"Resulting Train Set:\\n\", train_complete.shape)\n",
    "print(\"Resulting Test Set:\\n\", test_complete.shape)"
   ]
  },
  {
   "cell_type": "markdown",
   "id": "f0e07cd7",
   "metadata": {},
   "source": [
    "### Address non specified genre values"
   ]
  },
  {
   "cell_type": "code",
   "execution_count": 12,
   "id": "bc6ecc49",
   "metadata": {},
   "outputs": [
    {
     "name": "stdout",
     "output_type": "stream",
     "text": [
      "Train non specified genres: 20\n",
      "Test non specified genres: 9\n"
     ]
    }
   ],
   "source": [
    "train_no_genre = (train_complete['genres'] == '(no genres listed)').sum()\n",
    "test_no_genre = (test_complete['genres'] == '(no genres listed)').sum()\n",
    "\n",
    "print(\"Train non specified genres:\", train_no_genre)\n",
    "print(\"Test non specified genres:\", test_no_genre)"
   ]
  },
  {
   "cell_type": "markdown",
   "id": "cdadfa9b",
   "metadata": {},
   "source": [
    "Very little number, safe to delete."
   ]
  },
  {
   "cell_type": "code",
   "execution_count": 13,
   "id": "e520dafd",
   "metadata": {},
   "outputs": [
    {
     "name": "stdout",
     "output_type": "stream",
     "text": [
      "Resulting Train Set:\n",
      " (6595, 6)\n",
      "Resulting Test Set:\n",
      " (2826, 6)\n"
     ]
    }
   ],
   "source": [
    "train_complete = train_complete[train_complete['genres'] != '(no genres listed)']\n",
    "test_complete = test_complete[test_complete['genres'] != '(no genres listed)']\n",
    "\n",
    "print(\"Resulting Train Set:\\n\", train_complete.shape)\n",
    "print(\"Resulting Test Set:\\n\", test_complete.shape)"
   ]
  },
  {
   "cell_type": "markdown",
   "id": "0ba3ba29",
   "metadata": {},
   "source": [
    "### Address missing tmdbId"
   ]
  },
  {
   "cell_type": "code",
   "execution_count": 14,
   "id": "1ea309a1",
   "metadata": {},
   "outputs": [
    {
     "name": "stdout",
     "output_type": "stream",
     "text": [
      "Train missing tmdbId: 4\n",
      "Test missing tmdbId: 3\n"
     ]
    }
   ],
   "source": [
    "train_no_tmdbId = train_complete['tmdbId'].isna().sum()\n",
    "test_no_tmdbId = test_complete['tmdbId'].isna().sum()\n",
    "\n",
    "print(\"Train missing tmdbId:\", train_no_tmdbId)\n",
    "print(\"Test missing tmdbId:\", test_no_tmdbId)"
   ]
  },
  {
   "cell_type": "markdown",
   "id": "b9999838",
   "metadata": {},
   "source": [
    "tmdbId is necessary for obtaining movie posters."
   ]
  },
  {
   "cell_type": "code",
   "execution_count": 15,
   "id": "a408c19f",
   "metadata": {},
   "outputs": [
    {
     "name": "stdout",
     "output_type": "stream",
     "text": [
      "Final Train Set:\n",
      " (6591, 6)\n",
      "Final Test Set:\n",
      " (2823, 6)\n"
     ]
    }
   ],
   "source": [
    "train_complete = train_complete.dropna(subset=['tmdbId'])\n",
    "test_complete = test_complete.dropna(subset=['tmdbId'])\n",
    "\n",
    "print(\"Final Train Set:\\n\", train_complete.shape)\n",
    "print(\"Final Test Set:\\n\", test_complete.shape)"
   ]
  },
  {
   "cell_type": "markdown",
   "id": "1d7a491e",
   "metadata": {},
   "source": [
    "## Get poster urls"
   ]
  },
  {
   "cell_type": "code",
   "execution_count": 16,
   "id": "edfeeeca",
   "metadata": {},
   "outputs": [],
   "source": [
    "IMAGE_BASE_URL = 'https://image.tmdb.org/t/p/w500'\n",
    "\n",
    "def get_poster_url(tmdbId: int) -> Optional[str]:\n",
    "    try:\n",
    "        url: str = f\"{BASE_URL}/movie/{tmdbId}\"\n",
    "        time.sleep(0.02)\n",
    "        response = requests.get(url, params={'api_key': TMDB_API_KEY}, timeout=10)\n",
    "\n",
    "        if response.status_code == 200:\n",
    "            poster_path = response.json().get('poster_path')\n",
    "            if poster_path:\n",
    "                return f\"{IMAGE_BASE_URL}{poster_path}\"\n",
    "        \n",
    "        return None\n",
    "    except:\n",
    "        return None\n",
    "\n",
    "train_complete['poster_url'] = train_complete['tmdbId'].apply(get_poster_url)\n",
    "test_complete['poster_url'] = test_complete['tmdbId'].apply(get_poster_url)"
   ]
  },
  {
   "cell_type": "markdown",
   "id": "81382379",
   "metadata": {},
   "source": [
    "This urls will be later used to fetch the poster images for feature extraction."
   ]
  },
  {
   "cell_type": "code",
   "execution_count": 21,
   "id": "d8a87b34",
   "metadata": {},
   "outputs": [
    {
     "name": "stdout",
     "output_type": "stream",
     "text": [
      "Train missing posters: 54\n",
      "Test missing posters: 23\n"
     ]
    }
   ],
   "source": [
    "train_missing_posters = train_complete['poster_url'].isna().sum()\n",
    "test_missing_posters = test_complete['poster_url'].isna().sum()\n",
    "\n",
    "print(\"Train missing posters:\", train_missing_posters)\n",
    "print(\"Test missing posters:\", test_missing_posters)"
   ]
  },
  {
   "cell_type": "markdown",
   "id": "cc365dbd",
   "metadata": {},
   "source": [
    "Some poster links couldn't be fetched. These movies will be excluded because poster images are required for feature extraction."
   ]
  },
  {
   "cell_type": "code",
   "execution_count": 26,
   "id": "cc7baa19",
   "metadata": {},
   "outputs": [
    {
     "name": "stdout",
     "output_type": "stream",
     "text": [
      "Final Train Set:\n",
      " (6537, 7)\n",
      "Final Test Set:\n",
      " (2800, 7)\n"
     ]
    }
   ],
   "source": [
    "train_complete = train_complete.dropna(subset=['poster_url'])\n",
    "test_complete = test_complete.dropna(subset=['poster_url'])\n",
    "\n",
    "print(\"Final Train Set:\\n\", train_complete.shape)\n",
    "print(\"Final Test Set:\\n\", test_complete.shape)"
   ]
  },
  {
   "cell_type": "markdown",
   "id": "a4b96222",
   "metadata": {},
   "source": [
    "## Final dataset"
   ]
  },
  {
   "cell_type": "code",
   "execution_count": 23,
   "id": "706eecf1",
   "metadata": {},
   "outputs": [
    {
     "name": "stdout",
     "output_type": "stream",
     "text": [
      "Final Train Set Sample:\n",
      "    movieId                             title          genres   imdbId  tmdbId  \\\n",
      "0      619                         Ed (1996)          Comedy   116165   32308   \n",
      "1    33826                Saint Ralph (2004)    Comedy|Drama   384488   25248   \n",
      "2     1298       Pink Floyd: The Wall (1982)   Drama|Musical    84503   12104   \n",
      "3   140289              Men & Chicken (2015)    Comedy|Drama  3877674  296313   \n",
      "4     3064  Poison Ivy: New Seduction (1997)  Drama|Thriller   119908   18222   \n",
      "\n",
      "   year                                         poster_url  \n",
      "0  1996  https://image.tmdb.org/t/p/w500/oSNX3zyTpRMN0E...  \n",
      "1  2004  https://image.tmdb.org/t/p/w500/3MdWgqUunIBWnc...  \n",
      "2  1982  https://image.tmdb.org/t/p/w500/aElHyIdF5jmctF...  \n",
      "3  2015  https://image.tmdb.org/t/p/w500/6lZ1EjOoWJiZaG...  \n",
      "4  1997  https://image.tmdb.org/t/p/w500/l9Z43sz0qjTrmD...  \n",
      "Final Test Set Sample:\n",
      "    movieId                                   title  \\\n",
      "0    45635       Notorious Bettie Page, The (2005)   \n",
      "1     1373  Star Trek V: The Final Frontier (1989)   \n",
      "2     7325                  Starsky & Hutch (2004)   \n",
      "3      389              Colonel Chabert, Le (1994)   \n",
      "4     8920                Country Girl, The (1954)   \n",
      "\n",
      "                         genres  imdbId  tmdbId  year  \\\n",
      "0                         Drama  404802   15402  2005   \n",
      "1                 Action|Sci-Fi   98382     172  1989   \n",
      "2  Action|Comedy|Crime|Thriller  335438    9384  2004   \n",
      "3             Drama|Romance|War  109454   41580  1994   \n",
      "4                         Drama   46874    2438  1954   \n",
      "\n",
      "                                          poster_url  \n",
      "0  https://image.tmdb.org/t/p/w500/jRzcb9O8WdGmJd...  \n",
      "1  https://image.tmdb.org/t/p/w500/uiXr41VLYsuug3...  \n",
      "2  https://image.tmdb.org/t/p/w500/fmBYVkBjhVspPv...  \n",
      "3  https://image.tmdb.org/t/p/w500/Usaduh828gtYe6...  \n",
      "4  https://image.tmdb.org/t/p/w500/7LdXybdZcTdZo7...  \n"
     ]
    }
   ],
   "source": [
    "print(\"Final Train Set Sample:\\n\", train_complete.head())\n",
    "print(\"Final Test Set Sample:\\n\", test_complete.head())\n",
    "\n"
   ]
  },
  {
   "cell_type": "code",
   "execution_count": 24,
   "id": "9580f8cd",
   "metadata": {},
   "outputs": [
    {
     "name": "stdout",
     "output_type": "stream",
     "text": [
      "============================================================\n",
      "FINAL VERIFICATION\n",
      "============================================================\n",
      "\n",
      "TRAIN_COMPLETE:\n",
      "  Total movies: 6537\n",
      "  Columns: ['movieId', 'title', 'genres', 'imdbId', 'tmdbId', 'year', 'poster_url']\n",
      "  Missing title: 0\n",
      "  Missing genres: 0\n",
      "  Missing year: 0\n",
      "  Missing tmdbId: 0\n",
      "  Missing poster_url: 0\n",
      "\n",
      "TEST_COMPLETE:\n",
      "  Total movies: 2800\n",
      "  Missing title: 0\n",
      "  Missing genres: 0\n",
      "  Missing year: 0\n",
      "  Missing tmdbId: 0\n",
      "  Missing poster_url: 0\n"
     ]
    }
   ],
   "source": [
    "print(\"=\" * 60)\n",
    "print(\"FINAL VERIFICATION\")\n",
    "print(\"=\" * 60)\n",
    "\n",
    "print(f\"\\nTRAIN_COMPLETE:\")\n",
    "print(f\"  Total movies: {len(train_complete)}\")\n",
    "print(f\"  Columns: {list(train_complete.columns)}\")\n",
    "print(f\"  Missing title: {train_complete['title'].isna().sum()}\")\n",
    "print(f\"  Missing genres: {train_complete['genres'].isna().sum()}\")\n",
    "print(f\"  Missing year: {train_complete['year'].isna().sum()}\")\n",
    "print(f\"  Missing tmdbId: {train_complete['tmdbId'].isna().sum()}\")\n",
    "print(f\"  Missing poster_url: {train_complete['poster_url'].isna().sum()}\")\n",
    "\n",
    "print(f\"\\nTEST_COMPLETE:\")\n",
    "print(f\"  Total movies: {len(test_complete)}\")\n",
    "print(f\"  Missing title: {test_complete['title'].isna().sum()}\")\n",
    "print(f\"  Missing genres: {test_complete['genres'].isna().sum()}\")\n",
    "print(f\"  Missing year: {test_complete['year'].isna().sum()}\")\n",
    "print(f\"  Missing tmdbId: {test_complete['tmdbId'].isna().sum()}\")\n",
    "print(f\"  Missing poster_url: {test_complete['poster_url'].isna().sum()}\")"
   ]
  },
  {
   "cell_type": "code",
   "execution_count": 25,
   "id": "ace4d4d2",
   "metadata": {},
   "outputs": [
    {
     "name": "stdout",
     "output_type": "stream",
     "text": [
      "Cleaned datasets saved to 'data/train_complete.csv' and 'data/test_complete.csv'\n"
     ]
    }
   ],
   "source": [
    "train_complete.to_csv('data/train_complete.csv', index=False)\n",
    "test_complete.to_csv('data/test_complete.csv', index=False)\n",
    "\n",
    "print(\"Cleaned datasets saved to 'data/train_complete.csv' and 'data/test_complete.csv'\")"
   ]
  }
 ],
 "metadata": {
  "kernelspec": {
   "display_name": ".venv",
   "language": "python",
   "name": "python3"
  },
  "language_info": {
   "codemirror_mode": {
    "name": "ipython",
    "version": 3
   },
   "file_extension": ".py",
   "mimetype": "text/x-python",
   "name": "python",
   "nbconvert_exporter": "python",
   "pygments_lexer": "ipython3",
   "version": "3.14.0"
  }
 },
 "nbformat": 4,
 "nbformat_minor": 5
}
