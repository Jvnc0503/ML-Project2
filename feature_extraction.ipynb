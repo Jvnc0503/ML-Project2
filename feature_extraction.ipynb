{
 "cells": [
  {
   "cell_type": "markdown",
   "id": "079b70bf",
   "metadata": {},
   "source": [
    "# Poster Image Feature Extraction"
   ]
  },
  {
   "cell_type": "markdown",
   "id": "f116fc2f",
   "metadata": {},
   "source": [
    "## Enviroment Setup"
   ]
  },
  {
   "cell_type": "code",
   "execution_count": null,
   "id": "b4aed845",
   "metadata": {},
   "outputs": [],
   "source": [
    "%conda install -c conda-forge numpy pandas scikit-image opencv python-dotenv pillow requests"
   ]
  },
  {
   "cell_type": "code",
   "execution_count": null,
   "id": "5e858fcb",
   "metadata": {},
   "outputs": [],
   "source": [
    "import cv2\n",
    "import numpy as np\n",
    "from skimage.feature import local_binary_pattern, hog\n",
    "from skimage import color\n",
    "import os\n",
    "import pandas as pd\n",
    "from concurrent.futures import ThreadPoolExecutor, as_completed"
   ]
  },
  {
   "cell_type": "markdown",
   "id": "d8268450",
   "metadata": {},
   "source": [
    "## Load Processed Dataset"
   ]
  },
  {
   "cell_type": "code",
   "execution_count": null,
   "id": "20e42522",
   "metadata": {},
   "outputs": [],
   "source": [
    "train = pd.read_csv('data/train_complete.csv')\n",
    "test = pd.read_csv('data/test_complete.csv')\n",
    "movies = pd.concat([train['movieId'], test['movieId']], axis=0, ignore_index=True)\n",
    "ids: list[int] = movies.astype('Int64').to_list()"
   ]
  },
  {
   "cell_type": "markdown",
   "id": "e7d3bc82",
   "metadata": {},
   "source": [
    "## Feature Extraction Methods\n",
    "To represent the visual characteristics of each movie poster, we employ complementary feature extraction techniques that capture different aspects of the image: color, texture, and shape.\n",
    "These features will later be combined and used for clustering and genre correlation analysis.\n",
    "\n",
    "1. **Color Histograms (HSV):**\n",
    "We extract 3D color histograms in the HSV (Hue–Saturation–Value) color space.\n",
    "This representation is preferred over RGB because it better models human color perception and provides robustness to lighting and contrast variations.\n",
    "The histogram captures the overall color distribution, which often reflects the poster’s emotional tone or mood — for instance, dark and desaturated colors in horror movies or bright, vivid tones in comedies.\n",
    "\n",
    "2. **Texture Descriptors (Local Binary Patterns – LBP):**\n",
    "To characterize the texture and surface patterns, we use Local Binary Patterns (LBP).\n",
    "LBP encodes local texture information by comparing each pixel with its neighbors and creating a binary pattern, effectively capturing micro-textures and fine structures.\n",
    "This descriptor is simple, compact, and invariant to monotonic changes in illumination, making it suitable for differentiating posters based on visual style (e.g., realistic vs. illustrated).\n",
    "\n",
    "3. **Shape and Edge Descriptors (Histogram of Oriented Gradients – HOG):**\n",
    "To capture the spatial structure and composition of each poster, we extract Histogram of Oriented Gradients (HOG) features.\n",
    "HOG summarizes the distribution of edge directions and gradient magnitudes in local regions of the image, describing object outlines, silhouettes, and text layouts.\n",
    "It is particularly effective for representing the overall layout and dominant geometric patterns in the poster design.\n",
    "\n",
    "4. **Moment Descriptors (Hu Moments):**\n",
    "To complement local and textural information, we compute Hu Image Moments, a set of seven values derived from normalized central moments that are invariant to translation, rotation, and scale.\n",
    "These descriptors capture global shape and symmetry properties of the poster, reflecting its balance, structure, and spatial organization.\n",
    "\n",
    "5. **Combined Representation:**\n",
    "Each poster is represented by the concatenation of its normalized HSV, LBP, HOG, and Hu Moment feature vectors, forming a comprehensive and discriminative descriptor that encodes color, texture, edge, and geometric information.\n",
    "The combined feature vectors will be later reduced in dimensionality using some techniques before applying clustering algorithms."
   ]
  },
  {
   "cell_type": "code",
   "execution_count": null,
   "id": "a89c54e4",
   "metadata": {},
   "outputs": [],
   "source": [
    "def extract_hsv(image) -> np.ndarray:\n",
    "    hsv = cv2.cvtColor(image, cv2.COLOR_RGB2HSV)\n",
    "\n",
    "    hist_h = cv2.calcHist([hsv], [0], None, [32], [0, 180])\n",
    "    hist_s = cv2.calcHist([hsv], [1], None, [32], [0, 256])\n",
    "    hist_v = cv2.calcHist([hsv], [2], None, [32], [0, 256])\n",
    "\n",
    "    hist = np.concatenate((hist_h, hist_s, hist_v)).flatten()\n",
    "    hist = hist/(hist.sum() + 1e-7)\n",
    "\n",
    "    return hist\n",
    "\n",
    "def extract_lbp(image) -> np.ndarray:\n",
    "    lbp = local_binary_pattern(image, 24, 3, method='uniform')\n",
    "    hist, _ = np.histogram(lbp.ravel(), bins=26, range=(0, 26))\n",
    "    hist = hist / (hist.sum() + 1e-7)\n",
    "    return hist\n",
    "\n",
    "def extract_hog(image) -> np.ndarray:\n",
    "    gray = cv2.cvtColor(image, cv2.COLOR_RGB2GRAY)\n",
    "    gray = cv2.resize(gray, (128, 256))\n",
    "    \n",
    "    features = hog(gray, orientations=9, pixels_per_cell=(8, 8),\n",
    "                   cells_per_block=(2, 2), visualize=False)\n",
    "    \n",
    "    return features\n",
    "\n",
    "def extract_hu(image) -> np.ndarray:\n",
    "    moments = cv2.moments(image)\n",
    "    hu_moments = cv2.HuMoments(moments).flatten()\n",
    "    hu_moments = -np.sign(hu_moments) * np.log10(np.abs(hu_moments) + 1e-10)\n",
    "    return hu_moments\n",
    "\n",
    "def extract_features(movieId: int) -> tuple[int, np.ndarray]:\n",
    "    image = cv2.imread(f\"posters/{movieId}.jpg\")\n",
    "    \n",
    "    if image is None:\n",
    "        raise FileNotFoundError(f\"Image for movieId {movieId} not found.\")\n",
    "    \n",
    "    features = np.hstack([\n",
    "        extract_hsv(image),\n",
    "        extract_lbp(image),\n",
    "        extract_hog(image),\n",
    "        extract_hu(image)\n",
    "    ])\n",
    "    return movieId, features"
   ]
  },
  {
   "cell_type": "markdown",
   "id": "9d2ad39c",
   "metadata": {},
   "source": [
    "### Extracting Features"
   ]
  },
  {
   "cell_type": "code",
   "execution_count": null,
   "id": "5fa70cc2",
   "metadata": {},
   "outputs": [],
   "source": [
    "\n",
    "movieIds_list: list = []\n",
    "features_list: list = []\n",
    "\n",
    "with ThreadPoolExecutor(max_workers=8) as executor:\n",
    "    futures = {executor.submit(extract_features, id): id for id in ids}\n",
    "    \n",
    "    for future in as_completed(futures):\n",
    "        movieId, features = future.result()\n",
    "        movieIds_list.append(movieId)\n",
    "        features_list.append(features)\n",
    "\n",
    "movieIds_array: np.ndarray = np.array(movieIds_list)\n",
    "features_array: np.ndarray = np.vstack(features_list)\n",
    "\n",
    "np.savez_compressed('data/features.npz', movieId=movieIds_array, features=features_array)\n",
    "print(\"Feature extraction completed and saved to 'data/features.npz'\")"
   ]
  }
 ],
 "metadata": {
  "kernelspec": {
   "display_name": "Python 3",
   "language": "python",
   "name": "python3"
  },
  "language_info": {
   "codemirror_mode": {
    "name": "ipython",
    "version": 3
   },
   "file_extension": ".py",
   "mimetype": "text/x-python",
   "name": "python",
   "nbconvert_exporter": "python",
   "pygments_lexer": "ipython3",
   "version": "3.12.12"
  }
 },
 "nbformat": 4,
 "nbformat_minor": 5
}
