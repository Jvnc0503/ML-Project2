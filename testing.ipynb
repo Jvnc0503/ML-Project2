{
 "cells": [
  {
   "cell_type": "markdown",
   "id": "abcd2903",
   "metadata": {},
   "source": [
    "## Enviroment setup"
   ]
  },
  {
   "cell_type": "code",
   "execution_count": null,
   "id": "1053697e",
   "metadata": {},
   "outputs": [],
   "source": [
    "%pip install pandas numpy requests Pillow dotenv"
   ]
  },
  {
   "cell_type": "markdown",
   "id": "8dc7e3b3",
   "metadata": {},
   "source": [
    "## Imports"
   ]
  },
  {
   "cell_type": "code",
   "execution_count": 37,
   "id": "a64f15db",
   "metadata": {},
   "outputs": [],
   "source": [
    "import pandas as pd\n",
    "import numpy as np\n",
    "import requests\n",
    "from PIL import Image\n",
    "from io import BytesIO\n",
    "import os\n",
    "import re\n",
    "from typing import Optional\n",
    "import time\n",
    "from dotenv import load_dotenv"
   ]
  },
  {
   "cell_type": "markdown",
   "id": "e702d848",
   "metadata": {},
   "source": [
    "## Visualizing data"
   ]
  },
  {
   "cell_type": "code",
   "execution_count": 27,
   "id": "71a04c2f",
   "metadata": {},
   "outputs": [
    {
     "name": "stdout",
     "output_type": "stream",
     "text": [
      "Movies Train:\n",
      "    movieId                             title          genres  \\\n",
      "0      619                         Ed (1996)          Comedy   \n",
      "1    33826                Saint Ralph (2004)    Comedy|Drama   \n",
      "2     1298       Pink Floyd: The Wall (1982)   Drama|Musical   \n",
      "3   140289              Men & Chicken (2015)    Comedy|Drama   \n",
      "4     3064  Poison Ivy: New Seduction (1997)  Drama|Thriller   \n",
      "\n",
      "   (no genres listed)  Action  Adventure  Animation  Children  Comedy  Crime  \\\n",
      "0                   0       0          0          0         0       1      0   \n",
      "1                   0       0          0          0         0       1      0   \n",
      "2                   0       0          0          0         0       0      0   \n",
      "3                   0       0          0          0         0       1      0   \n",
      "4                   0       0          0          0         0       0      0   \n",
      "\n",
      "   ...  Film-Noir  Horror  IMAX  Musical  Mystery  Romance  Sci-Fi  Thriller  \\\n",
      "0  ...          0       0     0        0        0        0       0         0   \n",
      "1  ...          0       0     0        0        0        0       0         0   \n",
      "2  ...          0       0     0        1        0        0       0         0   \n",
      "3  ...          0       0     0        0        0        0       0         0   \n",
      "4  ...          0       0     0        0        0        0       0         1   \n",
      "\n",
      "   War  Western  \n",
      "0    0        0  \n",
      "1    0        0  \n",
      "2    0        0  \n",
      "3    0        0  \n",
      "4    0        0  \n",
      "\n",
      "[5 rows x 23 columns] \n",
      " Index(['movieId', 'title', 'genres', '(no genres listed)', 'Action',\n",
      "       'Adventure', 'Animation', 'Children', 'Comedy', 'Crime', 'Documentary',\n",
      "       'Drama', 'Fantasy', 'Film-Noir', 'Horror', 'IMAX', 'Musical', 'Mystery',\n",
      "       'Romance', 'Sci-Fi', 'Thriller', 'War', 'Western'],\n",
      "      dtype='object')\n",
      "\n",
      "Movies Test:\n",
      "    movieId                                   title\n",
      "0    45635       Notorious Bettie Page, The (2005)\n",
      "1     1373  Star Trek V: The Final Frontier (1989)\n",
      "2     7325                  Starsky & Hutch (2004)\n",
      "3      389              Colonel Chabert, Le (1994)\n",
      "4     8920                Country Girl, The (1954) \n",
      " Index(['movieId', 'title'], dtype='object')\n"
     ]
    }
   ],
   "source": [
    "movies_train = pd.read_csv('data/movies_train.csv')\n",
    "movies_test = pd.read_csv('data/movies_test.csv')\n",
    "\n",
    "print(\"Movies Train:\\n\", movies_train.head(), '\\n', movies_train.columns)\n",
    "print(\"\\nMovies Test:\\n\", movies_test.head(), '\\n', movies_test.columns)"
   ]
  },
  {
   "cell_type": "code",
   "execution_count": 28,
   "id": "b897a3e7",
   "metadata": {},
   "outputs": [
    {
     "name": "stdout",
     "output_type": "stream",
     "text": [
      "Movielens Movies:\n",
      "    movieId                               title  \\\n",
      "0        1                    Toy Story (1995)   \n",
      "1        2                      Jumanji (1995)   \n",
      "2        3             Grumpier Old Men (1995)   \n",
      "3        4            Waiting to Exhale (1995)   \n",
      "4        5  Father of the Bride Part II (1995)   \n",
      "\n",
      "                                        genres  \n",
      "0  Adventure|Animation|Children|Comedy|Fantasy  \n",
      "1                   Adventure|Children|Fantasy  \n",
      "2                               Comedy|Romance  \n",
      "3                         Comedy|Drama|Romance  \n",
      "4                                       Comedy   \n",
      " Index(['movieId', 'title', 'genres'], dtype='object')\n",
      "\n",
      "Movielens Links:\n",
      "    movieId  imdbId   tmdbId\n",
      "0        1  114709    862.0\n",
      "1        2  113497   8844.0\n",
      "2        3  113228  15602.0\n",
      "3        4  114885  31357.0\n",
      "4        5  113041  11862.0 \n",
      " Index(['movieId', 'imdbId', 'tmdbId'], dtype='object')\n"
     ]
    }
   ],
   "source": [
    "movielens_movies = pd.read_csv('ml-25m/movies.csv')\n",
    "movielens_links = pd.read_csv('ml-25m/links.csv')\n",
    "\n",
    "print(\"Movielens Movies:\\n\", movielens_movies.head(), '\\n', movielens_movies.columns)\n",
    "print(\"\\nMovielens Links:\\n\", movielens_links.head(), '\\n', movielens_links.columns)"
   ]
  },
  {
   "cell_type": "markdown",
   "id": "6759c067",
   "metadata": {},
   "source": [
    "## Merge movies_train/test with MovieLens"
   ]
  },
  {
   "cell_type": "code",
   "execution_count": 29,
   "id": "cef6b0b6",
   "metadata": {},
   "outputs": [
    {
     "name": "stdout",
     "output_type": "stream",
     "text": [
      "Merged Train:\n",
      "    movieId                             title          genres\n",
      "0      619                         Ed (1996)          Comedy\n",
      "1    33826                Saint Ralph (2004)    Comedy|Drama\n",
      "2     1298       Pink Floyd: The Wall (1982)   Drama|Musical\n",
      "3   140289              Men & Chicken (2015)    Comedy|Drama\n",
      "4     3064  Poison Ivy: New Seduction (1997)  Drama|Thriller\n",
      "\n",
      "Merged Test:\n",
      "    movieId                                   title  \\\n",
      "0    45635       Notorious Bettie Page, The (2005)   \n",
      "1     1373  Star Trek V: The Final Frontier (1989)   \n",
      "2     7325                  Starsky & Hutch (2004)   \n",
      "3      389              Colonel Chabert, Le (1994)   \n",
      "4     8920                Country Girl, The (1954)   \n",
      "\n",
      "                         genres  \n",
      "0                         Drama  \n",
      "1                 Action|Sci-Fi  \n",
      "2  Action|Comedy|Crime|Thriller  \n",
      "3             Drama|Romance|War  \n",
      "4                         Drama  \n"
     ]
    }
   ],
   "source": [
    "train_merged = movies_train[['movieId']].merge(\n",
    "    movielens_movies,\n",
    "    on='movieId',\n",
    "    how='left'\n",
    ")\n",
    "\n",
    "test_merged = movies_test[['movieId']].merge(\n",
    "    movielens_movies,\n",
    "    on='movieId',\n",
    "    how='left'\n",
    ")\n",
    "\n",
    "print(\"Merged Train:\\n\", train_merged.head())\n",
    "print(\"\\nMerged Test:\\n\", test_merged.head())"
   ]
  },
  {
   "cell_type": "markdown",
   "id": "56a7b34c",
   "metadata": {},
   "source": [
    "## Merge con Links"
   ]
  },
  {
   "cell_type": "code",
   "execution_count": 30,
   "id": "7dcc9bc0",
   "metadata": {},
   "outputs": [
    {
     "name": "stdout",
     "output_type": "stream",
     "text": [
      "Complete Train:\n",
      "    movieId                             title          genres   imdbId  \\\n",
      "0      619                         Ed (1996)          Comedy   116165   \n",
      "1    33826                Saint Ralph (2004)    Comedy|Drama   384488   \n",
      "2     1298       Pink Floyd: The Wall (1982)   Drama|Musical    84503   \n",
      "3   140289              Men & Chicken (2015)    Comedy|Drama  3877674   \n",
      "4     3064  Poison Ivy: New Seduction (1997)  Drama|Thriller   119908   \n",
      "\n",
      "     tmdbId  \n",
      "0   32308.0  \n",
      "1   25248.0  \n",
      "2   12104.0  \n",
      "3  296313.0  \n",
      "4   18222.0  \n",
      "\n",
      "Complete Test:\n",
      "    movieId                                   title  \\\n",
      "0    45635       Notorious Bettie Page, The (2005)   \n",
      "1     1373  Star Trek V: The Final Frontier (1989)   \n",
      "2     7325                  Starsky & Hutch (2004)   \n",
      "3      389              Colonel Chabert, Le (1994)   \n",
      "4     8920                Country Girl, The (1954)   \n",
      "\n",
      "                         genres  imdbId   tmdbId  \n",
      "0                         Drama  404802  15402.0  \n",
      "1                 Action|Sci-Fi   98382    172.0  \n",
      "2  Action|Comedy|Crime|Thriller  335438   9384.0  \n",
      "3             Drama|Romance|War  109454  41580.0  \n",
      "4                         Drama   46874   2438.0  \n"
     ]
    }
   ],
   "source": [
    "train_complete = train_merged.merge(\n",
    "    movielens_links,\n",
    "    on='movieId',\n",
    "    how='inner'\n",
    ")\n",
    "\n",
    "test_complete = test_merged.merge(\n",
    "    movielens_links,\n",
    "    on='movieId',\n",
    "    how='inner'\n",
    ")\n",
    "\n",
    "print(\"Complete Train:\\n\", train_complete.head())\n",
    "print(\"\\nComplete Test:\\n\", test_complete.head())"
   ]
  },
  {
   "cell_type": "markdown",
   "id": "b7b6032b",
   "metadata": {},
   "source": [
    "## Extract years from titles"
   ]
  },
  {
   "cell_type": "code",
   "execution_count": 31,
   "id": "d2a3cabb",
   "metadata": {},
   "outputs": [],
   "source": [
    "def extract_year(title: str) -> Optional[int]:\n",
    "    if pd.isna(title):\n",
    "        return None\n",
    "    match = re.search(r'\\((\\d{4})\\)', title)\n",
    "    return int(match.group(1)) if match else None\n",
    "\n",
    "train_complete['year'] = train_complete['title'].apply(extract_year)\n",
    "test_complete['year'] = test_complete['title'].apply(extract_year)"
   ]
  },
  {
   "cell_type": "markdown",
   "id": "c7b48ca3",
   "metadata": {},
   "source": [
    "## Find and fix missing values"
   ]
  },
  {
   "cell_type": "code",
   "execution_count": 34,
   "id": "f118385f",
   "metadata": {},
   "outputs": [
    {
     "name": "stdout",
     "output_type": "stream",
     "text": [
      "Train missing years: 11\n"
     ]
    },
    {
     "data": {
      "text/html": [
       "<div>\n",
       "<style scoped>\n",
       "    .dataframe tbody tr th:only-of-type {\n",
       "        vertical-align: middle;\n",
       "    }\n",
       "\n",
       "    .dataframe tbody tr th {\n",
       "        vertical-align: top;\n",
       "    }\n",
       "\n",
       "    .dataframe thead th {\n",
       "        text-align: right;\n",
       "    }\n",
       "</style>\n",
       "<table border=\"1\" class=\"dataframe\">\n",
       "  <thead>\n",
       "    <tr style=\"text-align: right;\">\n",
       "      <th></th>\n",
       "      <th>movieId</th>\n",
       "      <th>title</th>\n",
       "      <th>genres</th>\n",
       "      <th>imdbId</th>\n",
       "      <th>tmdbId</th>\n",
       "      <th>year</th>\n",
       "    </tr>\n",
       "  </thead>\n",
       "  <tbody>\n",
       "    <tr>\n",
       "      <th>832</th>\n",
       "      <td>156605</td>\n",
       "      <td>Paterson</td>\n",
       "      <td>(no genres listed)</td>\n",
       "      <td>5247022</td>\n",
       "      <td>370755.0</td>\n",
       "      <td>NaN</td>\n",
       "    </tr>\n",
       "    <tr>\n",
       "      <th>2482</th>\n",
       "      <td>171749</td>\n",
       "      <td>Death Note: Desu nôto (2006–2007)</td>\n",
       "      <td>(no genres listed)</td>\n",
       "      <td>877057</td>\n",
       "      <td>419787.0</td>\n",
       "      <td>NaN</td>\n",
       "    </tr>\n",
       "    <tr>\n",
       "      <th>3745</th>\n",
       "      <td>171631</td>\n",
       "      <td>Maria Bamford: Old Baby</td>\n",
       "      <td>(no genres listed)</td>\n",
       "      <td>6264596</td>\n",
       "      <td>455601.0</td>\n",
       "      <td>NaN</td>\n",
       "    </tr>\n",
       "    <tr>\n",
       "      <th>3752</th>\n",
       "      <td>140956</td>\n",
       "      <td>Ready Player One</td>\n",
       "      <td>Action|Sci-Fi|Thriller</td>\n",
       "      <td>1677720</td>\n",
       "      <td>333339.0</td>\n",
       "      <td>NaN</td>\n",
       "    </tr>\n",
       "    <tr>\n",
       "      <th>4269</th>\n",
       "      <td>167570</td>\n",
       "      <td>The OA</td>\n",
       "      <td>(no genres listed)</td>\n",
       "      <td>4635282</td>\n",
       "      <td>432192.0</td>\n",
       "      <td>NaN</td>\n",
       "    </tr>\n",
       "    <tr>\n",
       "      <th>4415</th>\n",
       "      <td>171495</td>\n",
       "      <td>Cosmos</td>\n",
       "      <td>(no genres listed)</td>\n",
       "      <td>81846</td>\n",
       "      <td>409926.0</td>\n",
       "      <td>NaN</td>\n",
       "    </tr>\n",
       "    <tr>\n",
       "      <th>4459</th>\n",
       "      <td>171891</td>\n",
       "      <td>Generation Iron 2</td>\n",
       "      <td>(no genres listed)</td>\n",
       "      <td>6263642</td>\n",
       "      <td>447818.0</td>\n",
       "      <td>NaN</td>\n",
       "    </tr>\n",
       "    <tr>\n",
       "      <th>4627</th>\n",
       "      <td>176601</td>\n",
       "      <td>Black Mirror</td>\n",
       "      <td>(no genres listed)</td>\n",
       "      <td>2492564</td>\n",
       "      <td>452830.0</td>\n",
       "      <td>NaN</td>\n",
       "    </tr>\n",
       "    <tr>\n",
       "      <th>5379</th>\n",
       "      <td>147250</td>\n",
       "      <td>The Adventures of Sherlock Holmes and Doctor W...</td>\n",
       "      <td>(no genres listed)</td>\n",
       "      <td>229922</td>\n",
       "      <td>127605.0</td>\n",
       "      <td>NaN</td>\n",
       "    </tr>\n",
       "    <tr>\n",
       "      <th>5819</th>\n",
       "      <td>143410</td>\n",
       "      <td>Hyena Road</td>\n",
       "      <td>(no genres listed)</td>\n",
       "      <td>4034452</td>\n",
       "      <td>316042.0</td>\n",
       "      <td>NaN</td>\n",
       "    </tr>\n",
       "    <tr>\n",
       "      <th>5881</th>\n",
       "      <td>149334</td>\n",
       "      <td>Nocturnal Animals</td>\n",
       "      <td>Drama|Thriller</td>\n",
       "      <td>4550098</td>\n",
       "      <td>340666.0</td>\n",
       "      <td>NaN</td>\n",
       "    </tr>\n",
       "  </tbody>\n",
       "</table>\n",
       "</div>"
      ],
      "text/plain": [
       "      movieId                                              title  \\\n",
       "832    156605                                           Paterson   \n",
       "2482   171749                  Death Note: Desu nôto (2006–2007)   \n",
       "3745   171631                            Maria Bamford: Old Baby   \n",
       "3752   140956                                   Ready Player One   \n",
       "4269   167570                                             The OA   \n",
       "4415   171495                                             Cosmos   \n",
       "4459   171891                                  Generation Iron 2   \n",
       "4627   176601                                       Black Mirror   \n",
       "5379   147250  The Adventures of Sherlock Holmes and Doctor W...   \n",
       "5819   143410                                         Hyena Road   \n",
       "5881   149334                                  Nocturnal Animals   \n",
       "\n",
       "                      genres   imdbId    tmdbId  year  \n",
       "832       (no genres listed)  5247022  370755.0   NaN  \n",
       "2482      (no genres listed)   877057  419787.0   NaN  \n",
       "3745      (no genres listed)  6264596  455601.0   NaN  \n",
       "3752  Action|Sci-Fi|Thriller  1677720  333339.0   NaN  \n",
       "4269      (no genres listed)  4635282  432192.0   NaN  \n",
       "4415      (no genres listed)    81846  409926.0   NaN  \n",
       "4459      (no genres listed)  6263642  447818.0   NaN  \n",
       "4627      (no genres listed)  2492564  452830.0   NaN  \n",
       "5379      (no genres listed)   229922  127605.0   NaN  \n",
       "5819      (no genres listed)  4034452  316042.0   NaN  \n",
       "5881          Drama|Thriller  4550098  340666.0   NaN  "
      ]
     },
     "metadata": {},
     "output_type": "display_data"
    },
    {
     "name": "stdout",
     "output_type": "stream",
     "text": [
      "Test missing years: 1\n"
     ]
    },
    {
     "data": {
      "text/html": [
       "<div>\n",
       "<style scoped>\n",
       "    .dataframe tbody tr th:only-of-type {\n",
       "        vertical-align: middle;\n",
       "    }\n",
       "\n",
       "    .dataframe tbody tr th {\n",
       "        vertical-align: top;\n",
       "    }\n",
       "\n",
       "    .dataframe thead th {\n",
       "        text-align: right;\n",
       "    }\n",
       "</style>\n",
       "<table border=\"1\" class=\"dataframe\">\n",
       "  <thead>\n",
       "    <tr style=\"text-align: right;\">\n",
       "      <th></th>\n",
       "      <th>movieId</th>\n",
       "      <th>title</th>\n",
       "      <th>genres</th>\n",
       "      <th>imdbId</th>\n",
       "      <th>tmdbId</th>\n",
       "      <th>year</th>\n",
       "    </tr>\n",
       "  </thead>\n",
       "  <tbody>\n",
       "    <tr>\n",
       "      <th>507</th>\n",
       "      <td>162414</td>\n",
       "      <td>Moonlight</td>\n",
       "      <td>Drama</td>\n",
       "      <td>4975722</td>\n",
       "      <td>376867.0</td>\n",
       "      <td>NaN</td>\n",
       "    </tr>\n",
       "  </tbody>\n",
       "</table>\n",
       "</div>"
      ],
      "text/plain": [
       "     movieId      title genres   imdbId    tmdbId  year\n",
       "507   162414  Moonlight  Drama  4975722  376867.0   NaN"
      ]
     },
     "metadata": {},
     "output_type": "display_data"
    }
   ],
   "source": [
    "train_missing = train_complete[train_complete['year'].isna()]\n",
    "test_missing = test_complete[test_complete['year'].isna()]\n",
    "\n",
    "print(f\"Train missing years: {len(train_missing)}\")\n",
    "display(train_missing)\n",
    "\n",
    "print(f\"Test missing years: {len(test_missing)}\")\n",
    "display(test_missing)"
   ]
  },
  {
   "cell_type": "code",
   "execution_count": 38,
   "id": "aa4025a8",
   "metadata": {},
   "outputs": [
    {
     "name": "stdout",
     "output_type": "stream",
     "text": [
      "Missing years after TMDB lookup: 4 0\n"
     ]
    }
   ],
   "source": [
    "load_dotenv()\n",
    "TMDB_API_KEY = os.getenv('TMDB_API_KEY')\n",
    "BASE_URL = 'https://api.themoviedb.org/3'\n",
    "\n",
    "def get_year_from_tmdb(row):\n",
    "    if pd.notna(row['year']):\n",
    "        return row['year']\n",
    "    \n",
    "    if pd.isna(row['tmdbId']):\n",
    "        return None\n",
    "    \n",
    "    try:\n",
    "        url = f\"{BASE_URL}/movie/{int(row['tmdbId'])}\"\n",
    "        response = requests.get(url, params={'api_key': TMDB_API_KEY}, timeout=10)\n",
    "        \n",
    "        if response.status_code == 200:\n",
    "            release_date = response.json().get('release_date', '')\n",
    "            if release_date:\n",
    "                time.sleep(0.25)\n",
    "                return int(release_date.split('-')[0])\n",
    "        \n",
    "        time.sleep(0.25)\n",
    "        return None\n",
    "    except:\n",
    "        return None\n",
    "    \n",
    "train_complete['year'] = train_complete.apply(get_year_from_tmdb, axis=1) # type: ignore\n",
    "test_complete['year'] = test_complete.apply(get_year_from_tmdb, axis=1) # type: ignore\n",
    "\n",
    "print(\"Missing years after TMDB lookup:\", train_complete['year'].isna().sum(), test_complete['year'].isna().sum())"
   ]
  }
 ],
 "metadata": {
  "kernelspec": {
   "display_name": ".venv",
   "language": "python",
   "name": "python3"
  },
  "language_info": {
   "codemirror_mode": {
    "name": "ipython",
    "version": 3
   },
   "file_extension": ".py",
   "mimetype": "text/x-python",
   "name": "python",
   "nbconvert_exporter": "python",
   "pygments_lexer": "ipython3",
   "version": "3.14.0"
  }
 },
 "nbformat": 4,
 "nbformat_minor": 5
}
