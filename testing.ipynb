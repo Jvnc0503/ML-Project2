{
 "cells": [
  {
   "cell_type": "code",
   "execution_count": null,
   "id": "1053697e",
   "metadata": {},
   "outputs": [],
   "source": [
    "%pip install --upgrade pip setuptools wheel\n",
    "%pip install pandas numpy requests Pillow"
   ]
  },
  {
   "cell_type": "code",
   "execution_count": 4,
   "id": "a64f15db",
   "metadata": {},
   "outputs": [],
   "source": [
    "import pandas as pd\n",
    "import numpy as np\n",
    "import requests\n",
    "from PIL import Image\n",
    "from io import BytesIO\n",
    "import os"
   ]
  },
  {
   "cell_type": "code",
   "execution_count": 5,
   "id": "71a04c2f",
   "metadata": {},
   "outputs": [
    {
     "name": "stdout",
     "output_type": "stream",
     "text": [
      "Movies Train:    movieId                             title          genres  \\\n",
      "0      619                         Ed (1996)          Comedy   \n",
      "1    33826                Saint Ralph (2004)    Comedy|Drama   \n",
      "2     1298       Pink Floyd: The Wall (1982)   Drama|Musical   \n",
      "3   140289              Men & Chicken (2015)    Comedy|Drama   \n",
      "4     3064  Poison Ivy: New Seduction (1997)  Drama|Thriller   \n",
      "\n",
      "   (no genres listed)  Action  Adventure  Animation  Children  Comedy  Crime  \\\n",
      "0                   0       0          0          0         0       1      0   \n",
      "1                   0       0          0          0         0       1      0   \n",
      "2                   0       0          0          0         0       0      0   \n",
      "3                   0       0          0          0         0       1      0   \n",
      "4                   0       0          0          0         0       0      0   \n",
      "\n",
      "   ...  Film-Noir  Horror  IMAX  Musical  Mystery  Romance  Sci-Fi  Thriller  \\\n",
      "0  ...          0       0     0        0        0        0       0         0   \n",
      "1  ...          0       0     0        0        0        0       0         0   \n",
      "2  ...          0       0     0        1        0        0       0         0   \n",
      "3  ...          0       0     0        0        0        0       0         0   \n",
      "4  ...          0       0     0        0        0        0       0         1   \n",
      "\n",
      "   War  Western  \n",
      "0    0        0  \n",
      "1    0        0  \n",
      "2    0        0  \n",
      "3    0        0  \n",
      "4    0        0  \n",
      "\n",
      "[5 rows x 23 columns] Index(['movieId', 'title', 'genres', '(no genres listed)', 'Action',\n",
      "       'Adventure', 'Animation', 'Children', 'Comedy', 'Crime', 'Documentary',\n",
      "       'Drama', 'Fantasy', 'Film-Noir', 'Horror', 'IMAX', 'Musical', 'Mystery',\n",
      "       'Romance', 'Sci-Fi', 'Thriller', 'War', 'Western'],\n",
      "      dtype='object')\n",
      "\n",
      "Movies Test:    movieId                                   title\n",
      "0    45635       Notorious Bettie Page, The (2005)\n",
      "1     1373  Star Trek V: The Final Frontier (1989)\n",
      "2     7325                  Starsky & Hutch (2004)\n",
      "3      389              Colonel Chabert, Le (1994)\n",
      "4     8920                Country Girl, The (1954) Index(['movieId', 'title'], dtype='object')\n"
     ]
    }
   ],
   "source": [
    "movies_train = pd.read_csv('data/movies_train.csv')\n",
    "movies_test = pd.read_csv('data/movies_test.csv')\n",
    "\n",
    "print(\"Movies Train:\", movies_train.head(), movies_train.columns)\n",
    "print(\"\\nMovies Test:\", movies_test.head(), movies_test.columns)"
   ]
  },
  {
   "cell_type": "code",
   "execution_count": null,
   "id": "b897a3e7",
   "metadata": {},
   "outputs": [],
   "source": [
    "movielens_movies = pd.read_csv('ml-25m/movies.csv')\n",
    "movielens_links = pd.read_csv('ml-25m/links.csv')\n",
    "\n",
    "print(\"Movielens Movies:\", movielens_movies.head(), movielens_movies.columns)\n",
    "print(\"\\nMovielens Links:\", movielens_links.head(), movielens_links.columns)"
   ]
  }
 ],
 "metadata": {
  "kernelspec": {
   "display_name": ".venv",
   "language": "python",
   "name": "python3"
  },
  "language_info": {
   "codemirror_mode": {
    "name": "ipython",
    "version": 3
   },
   "file_extension": ".py",
   "mimetype": "text/x-python",
   "name": "python",
   "nbconvert_exporter": "python",
   "pygments_lexer": "ipython3",
   "version": "3.13.7"
  }
 },
 "nbformat": 4,
 "nbformat_minor": 5
}
