{
 "cells": [
  {
   "cell_type": "markdown",
   "id": "141d79a1",
   "metadata": {},
   "source": [
    "# Poster Download"
   ]
  },
  {
   "cell_type": "markdown",
   "id": "9807ec12",
   "metadata": {},
   "source": [
    "## Enviroment Setup"
   ]
  },
  {
   "cell_type": "code",
   "execution_count": null,
   "id": "d380cf6f",
   "metadata": {},
   "outputs": [],
   "source": [
    "%pip install pandas numpy requests Pillow dotenv"
   ]
  },
  {
   "cell_type": "code",
   "execution_count": 2,
   "id": "9623129f",
   "metadata": {},
   "outputs": [],
   "source": [
    "import pandas as pd\n",
    "import numpy as np\n",
    "import requests\n",
    "from PIL import Image\n",
    "from io import BytesIO\n",
    "import os\n",
    "import re\n",
    "from typing import Optional\n",
    "import time\n",
    "from dotenv import load_dotenv"
   ]
  },
  {
   "cell_type": "markdown",
   "id": "2b8d924c",
   "metadata": {},
   "source": [
    "## Load Processed Dataset"
   ]
  },
  {
   "cell_type": "code",
   "execution_count": 3,
   "id": "158ea25a",
   "metadata": {},
   "outputs": [
    {
     "name": "stdout",
     "output_type": "stream",
     "text": [
      "   movieId                             title          genres   imdbId  tmdbId  \\\n",
      "0      619                         Ed (1996)          Comedy   116165   32308   \n",
      "1    33826                Saint Ralph (2004)    Comedy|Drama   384488   25248   \n",
      "2     1298       Pink Floyd: The Wall (1982)   Drama|Musical    84503   12104   \n",
      "3   140289              Men & Chicken (2015)    Comedy|Drama  3877674  296313   \n",
      "4     3064  Poison Ivy: New Seduction (1997)  Drama|Thriller   119908   18222   \n",
      "\n",
      "   year                                         poster_url  \n",
      "0  1996  https://image.tmdb.org/t/p/w500/oSNX3zyTpRMN0E...  \n",
      "1  2004  https://image.tmdb.org/t/p/w500/3MdWgqUunIBWnc...  \n",
      "2  1982  https://image.tmdb.org/t/p/w500/aElHyIdF5jmctF...  \n",
      "3  2015  https://image.tmdb.org/t/p/w500/6lZ1EjOoWJiZaG...  \n",
      "4  1997  https://image.tmdb.org/t/p/w500/l9Z43sz0qjTrmD...  \n",
      "   movieId                                   title  \\\n",
      "0    45635       Notorious Bettie Page, The (2005)   \n",
      "1     1373  Star Trek V: The Final Frontier (1989)   \n",
      "2     7325                  Starsky & Hutch (2004)   \n",
      "3      389              Colonel Chabert, Le (1994)   \n",
      "4     8920                Country Girl, The (1954)   \n",
      "\n",
      "                         genres  imdbId  tmdbId  year  \\\n",
      "0                         Drama  404802   15402  2005   \n",
      "1                 Action|Sci-Fi   98382     172  1989   \n",
      "2  Action|Comedy|Crime|Thriller  335438    9384  2004   \n",
      "3             Drama|Romance|War  109454   41580  1994   \n",
      "4                         Drama   46874    2438  1954   \n",
      "\n",
      "                                          poster_url  \n",
      "0  https://image.tmdb.org/t/p/w500/jRzcb9O8WdGmJd...  \n",
      "1  https://image.tmdb.org/t/p/w500/uiXr41VLYsuug3...  \n",
      "2  https://image.tmdb.org/t/p/w500/fmBYVkBjhVspPv...  \n",
      "3  https://image.tmdb.org/t/p/w500/Usaduh828gtYe6...  \n",
      "4  https://image.tmdb.org/t/p/w500/7LdXybdZcTdZo7...  \n"
     ]
    }
   ],
   "source": [
    "train = pd.read_csv('data/train_complete.csv')\n",
    "test = pd.read_csv('data/test_complete.csv')\n",
    "\n",
    "print(train.head())\n",
    "print(test.head())"
   ]
  },
  {
   "cell_type": "markdown",
   "id": "5859c5aa",
   "metadata": {},
   "source": [
    "## Fetch Poster Images"
   ]
  },
  {
   "cell_type": "code",
   "execution_count": 4,
   "id": "6ea05958",
   "metadata": {},
   "outputs": [
    {
     "name": "stdout",
     "output_type": "stream",
     "text": [
      "Total images downloaded: 9334\n",
      "Failed to download 3 images. Saved to 'data/failed_downloads.csv'.\n"
     ]
    }
   ],
   "source": [
    "movies = pd.concat([train, test], axis=0, ignore_index=True)\n",
    "\n",
    "failed: list = []\n",
    "\n",
    "for idx, row in movies.iterrows():\n",
    "    save_path: str = f\"posters/{row['movieId']}.jpg\"\n",
    "\n",
    "    try:\n",
    "        time.sleep(0.02)\n",
    "        response = requests.get(row['poster_url'], timeout=10)\n",
    "        if response.status_code == 200:\n",
    "            img = Image.open(BytesIO(response.content))\n",
    "            img.save(save_path)\n",
    "        else:\n",
    "            failed.append(row.to_dict())\n",
    "    except:\n",
    "        failed.append(row.to_dict())\n",
    "\n",
    "print(f\"Total images downloaded: {len(movies) - len(failed)}\")\n",
    "\n",
    "if failed:\n",
    "    failed_df = pd.DataFrame(failed)\n",
    "    failed_df.to_csv('data/failed_downloads.csv', index=False)\n",
    "    print(f\"Failed to download {len(failed)} images. Saved to 'data/failed_downloads.csv'.\")"
   ]
  },
  {
   "cell_type": "markdown",
   "id": "6d91247c",
   "metadata": {},
   "source": [
    "### Retrying failed downloads"
   ]
  },
  {
   "cell_type": "code",
   "execution_count": 3,
   "id": "cc7c1b54",
   "metadata": {},
   "outputs": [],
   "source": [
    "missing = pd.read_csv('data/failed_downloads.csv')\n",
    "\n",
    "for idx, row in missing.iterrows():\n",
    "    save_path: str = f\"posters/{row['movieId']}.jpg\"\n",
    "\n",
    "    try:\n",
    "        time.sleep(0.02)\n",
    "        response = requests.get(row['poster_url'], timeout=10)\n",
    "        if response.status_code == 200:\n",
    "            img = Image.open(BytesIO(response.content))\n",
    "            img.save(save_path)\n",
    "        else:\n",
    "            print(f\"Failed again for movieId {row['movieId']}\")\n",
    "    except Exception as e:\n",
    "        print(f\"Exception for movieId {row['movieId']}: {e}\")"
   ]
  },
  {
   "cell_type": "markdown",
   "id": "3004d4ef",
   "metadata": {},
   "source": [
    "All poster image downloads succeeded."
   ]
  }
 ],
 "metadata": {
  "kernelspec": {
   "display_name": ".venv",
   "language": "python",
   "name": "python3"
  },
  "language_info": {
   "codemirror_mode": {
    "name": "ipython",
    "version": 3
   },
   "file_extension": ".py",
   "mimetype": "text/x-python",
   "name": "python",
   "nbconvert_exporter": "python",
   "pygments_lexer": "ipython3",
   "version": "3.14.0"
  }
 },
 "nbformat": 4,
 "nbformat_minor": 5
}
