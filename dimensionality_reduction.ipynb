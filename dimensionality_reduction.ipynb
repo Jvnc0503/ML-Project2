{
 "cells": [
  {
   "cell_type": "markdown",
   "id": "2aa86fb4",
   "metadata": {},
   "source": [
    "# Dimensionality Reduction Analysis\n",
    "\n",
    "## Enviroment Setup"
   ]
  },
  {
   "cell_type": "code",
   "execution_count": null,
   "id": "78893f98",
   "metadata": {},
   "outputs": [],
   "source": [
    "%conda install -c conda-forge numpy pandas scikit-learn matplotlib seaborn -y"
   ]
  },
  {
   "cell_type": "code",
   "execution_count": 25,
   "id": "6ce683da",
   "metadata": {},
   "outputs": [],
   "source": [
    "import numpy as np\n",
    "import pandas as pd\n",
    "from sklearn.decomposition import PCA, TruncatedSVD\n",
    "from sklearn.discriminant_analysis import LinearDiscriminantAnalysis as LDA\n",
    "from sklearn.preprocessing import StandardScaler\n",
    "from sklearn.metrics import silhouette_score, davies_bouldin_score, calinski_harabasz_score\n",
    "from sklearn.cluster import KMeans\n",
    "import time"
   ]
  },
  {
   "cell_type": "markdown",
   "id": "78cbe9cb",
   "metadata": {},
   "source": [
    "## Load Data"
   ]
  },
  {
   "cell_type": "code",
   "execution_count": 39,
   "id": "e5a2126d",
   "metadata": {},
   "outputs": [
    {
     "name": "stdout",
     "output_type": "stream",
     "text": [
      "Loaded features: (9337, 3345)\n",
      "Loaded movies: 9337\n"
     ]
    }
   ],
   "source": [
    "data = np.load('data/features.npz')\n",
    "movieIds = data['movieId']\n",
    "features = data['features']\n",
    "movies = pd.concat([pd.read_csv('data/train_complete.csv'), pd.read_csv('data/test_complete.csv')], ignore_index=True)\n",
    "\n",
    "print(f\"Loaded features: {features.shape}\")\n",
    "print(f\"Loaded movies: {len(movies)}\")"
   ]
  },
  {
   "cell_type": "markdown",
   "id": "69bc8c01",
   "metadata": {},
   "source": [
    "## Standarize Features"
   ]
  },
  {
   "cell_type": "code",
   "execution_count": 40,
   "id": "004d8fd3",
   "metadata": {},
   "outputs": [],
   "source": [
    "scaler = StandardScaler()\n",
    "features_scaled = scaler.fit_transform(features)\n",
    "\n",
    "n_components = 32"
   ]
  },
  {
   "cell_type": "markdown",
   "id": "c7a4869c",
   "metadata": {},
   "source": [
    "## PCA"
   ]
  },
  {
   "cell_type": "code",
   "execution_count": 41,
   "id": "aa2c1e7e",
   "metadata": {},
   "outputs": [
    {
     "name": "stdout",
     "output_type": "stream",
     "text": [
      "Time: 1.56s\n",
      "Shape: (9337, 32)\n",
      "Explained Variance Ratio: 0.2585\n"
     ]
    }
   ],
   "source": [
    "start = time.time()\n",
    "pca = PCA(n_components=n_components, random_state=42)\n",
    "features_pca = pca.fit_transform(features_scaled)\n",
    "pca_time = time.time() - start\n",
    "\n",
    "print(f\"Time: {pca_time:.2f}s\")\n",
    "print(f\"Shape: {features_pca.shape}\")\n",
    "print(f\"Explained Variance Ratio: {pca.explained_variance_ratio_.sum():.4f}\")"
   ]
  },
  {
   "cell_type": "markdown",
   "id": "37569574",
   "metadata": {},
   "source": [
    "## SVD"
   ]
  },
  {
   "cell_type": "code",
   "execution_count": 42,
   "id": "450bf48a",
   "metadata": {},
   "outputs": [
    {
     "name": "stdout",
     "output_type": "stream",
     "text": [
      "Time: 1.18s\n",
      "Shape: (9337, 32)\n",
      "Explained Variance Ratio: 0.2582\n"
     ]
    }
   ],
   "source": [
    "start = time.time()\n",
    "svd = TruncatedSVD(n_components=n_components, random_state=42)\n",
    "features_svd = svd.fit_transform(features_scaled)\n",
    "svd_time = time.time() - start\n",
    "\n",
    "print(f\"Time: {svd_time:.2f}s\")\n",
    "print(f\"Shape: {features_svd.shape}\")\n",
    "print(f\"Explained Variance Ratio: {svd.explained_variance_ratio_.sum():.4f}\")"
   ]
  },
  {
   "cell_type": "markdown",
   "id": "212bb000",
   "metadata": {},
   "source": [
    "## LDA"
   ]
  },
  {
   "cell_type": "code",
   "execution_count": 43,
   "id": "7e67ca85",
   "metadata": {},
   "outputs": [
    {
     "name": "stdout",
     "output_type": "stream",
     "text": [
      "Time: 7.18s\n",
      "Shape: (9321, 15)\n",
      "Explained variance: 1.0000\n",
      "Movies used: 9321/9337\n"
     ]
    }
   ],
   "source": [
    "genres_series = movies.set_index('movieId')['genres'].reindex(movieIds)\n",
    "genres_available = genres_series.notna()\n",
    "\n",
    "genres_split = genres_series[genres_available].str.split('|')\n",
    "primary_genre = genres_split.str[0]\n",
    "\n",
    "unique_genres = primary_genre.value_counts()\n",
    "top_genres = unique_genres[unique_genres >= 20].index.tolist()\n",
    "\n",
    "genre_mask = primary_genre.isin(top_genres)\n",
    "\n",
    "features_for_lda = features_scaled[genres_available][genre_mask]\n",
    "labels_for_lda = primary_genre[genre_mask]\n",
    "\n",
    "n_classes = len(labels_for_lda.unique())\n",
    "n_components_lda = min(n_classes - 1, features_for_lda.shape[1], n_components)\n",
    "\n",
    "start = time.time()\n",
    "lda = LDA(n_components=n_components_lda)\n",
    "features_lda = lda.fit_transform(features_for_lda, labels_for_lda)\n",
    "lda_time = time.time() - start\n",
    "\n",
    "print(f\"Time: {lda_time:.2f}s\")\n",
    "print(f\"Shape: {features_lda.shape}\")\n",
    "print(f\"Explained variance: {lda.explained_variance_ratio_.sum():.4f}\")\n",
    "print(f\"Movies used: {len(features_lda)}/{len(movieIds)}\")"
   ]
  },
  {
   "cell_type": "markdown",
   "id": "5f735c47",
   "metadata": {},
   "source": [
    "## Evaluate with Clustering Metrics"
   ]
  },
  {
   "cell_type": "code",
   "execution_count": 44,
   "id": "e09f5783",
   "metadata": {},
   "outputs": [
    {
     "data": {
      "text/html": [
       "<div>\n",
       "<style scoped>\n",
       "    .dataframe tbody tr th:only-of-type {\n",
       "        vertical-align: middle;\n",
       "    }\n",
       "\n",
       "    .dataframe tbody tr th {\n",
       "        vertical-align: top;\n",
       "    }\n",
       "\n",
       "    .dataframe thead th {\n",
       "        text-align: right;\n",
       "    }\n",
       "</style>\n",
       "<table border=\"1\" class=\"dataframe\">\n",
       "  <thead>\n",
       "    <tr style=\"text-align: right;\">\n",
       "      <th></th>\n",
       "      <th>Method</th>\n",
       "      <th>Silhouette</th>\n",
       "      <th>Davies-Bouldin</th>\n",
       "      <th>Calinski-Harabasz</th>\n",
       "    </tr>\n",
       "  </thead>\n",
       "  <tbody>\n",
       "    <tr>\n",
       "      <th>0</th>\n",
       "      <td>PCA</td>\n",
       "      <td>0.032429</td>\n",
       "      <td>3.149387</td>\n",
       "      <td>324.952332</td>\n",
       "    </tr>\n",
       "    <tr>\n",
       "      <th>1</th>\n",
       "      <td>SVD</td>\n",
       "      <td>0.030411</td>\n",
       "      <td>3.221409</td>\n",
       "      <td>325.429321</td>\n",
       "    </tr>\n",
       "    <tr>\n",
       "      <th>2</th>\n",
       "      <td>LDA</td>\n",
       "      <td>0.084182</td>\n",
       "      <td>2.005097</td>\n",
       "      <td>417.959045</td>\n",
       "    </tr>\n",
       "  </tbody>\n",
       "</table>\n",
       "</div>"
      ],
      "text/plain": [
       "  Method  Silhouette  Davies-Bouldin  Calinski-Harabasz\n",
       "0    PCA    0.032429        3.149387         324.952332\n",
       "1    SVD    0.030411        3.221409         325.429321\n",
       "2    LDA    0.084182        2.005097         417.959045"
      ]
     },
     "metadata": {},
     "output_type": "display_data"
    }
   ],
   "source": [
    "methods = {'PCA': features_pca, 'SVD': features_svd, 'LDA': features_lda}\n",
    "\n",
    "results = []\n",
    "\n",
    "for method_name, features_reduced in methods.items():\n",
    "    kmeans = KMeans(n_clusters=10, random_state=42, n_init=10)\n",
    "    labels = kmeans.fit_predict(features_reduced)\n",
    "    \n",
    "    silhouette = silhouette_score(features_reduced, labels)\n",
    "    davies_bouldin = davies_bouldin_score(features_reduced, labels)\n",
    "    calinski_harabasz = calinski_harabasz_score(features_reduced, labels)\n",
    "    \n",
    "    results.append({\n",
    "        'Method': method_name,\n",
    "        'Silhouette': silhouette,\n",
    "        'Davies-Bouldin': davies_bouldin,\n",
    "        'Calinski-Harabasz': calinski_harabasz\n",
    "    })\n",
    "\n",
    "results_df = pd.DataFrame(results)\n",
    "display(results_df)"
   ]
  },
  {
   "cell_type": "markdown",
   "id": "520c5c7d",
   "metadata": {},
   "source": [
    "## Save Results"
   ]
  },
  {
   "cell_type": "code",
   "execution_count": 45,
   "id": "b64f7873",
   "metadata": {},
   "outputs": [
    {
     "name": "stdout",
     "output_type": "stream",
     "text": [
      "Reduced features sets saved.\n"
     ]
    }
   ],
   "source": [
    "np.savez_compressed('data/features_pca.npz', movieId=movieIds, features=features_pca)\n",
    "np.savez_compressed('data/features_svd.npz', movieId=movieIds, features=features_svd)\n",
    "np.savez_compressed('data/features_lda.npz', movieId=movieIds[genres_available][genre_mask], features=features_lda)\n",
    "\n",
    "print(\"Reduced features sets saved.\")"
   ]
  }
 ],
 "metadata": {
  "kernelspec": {
   "display_name": "Python 3",
   "language": "python",
   "name": "python3"
  },
  "language_info": {
   "codemirror_mode": {
    "name": "ipython",
    "version": 3
   },
   "file_extension": ".py",
   "mimetype": "text/x-python",
   "name": "python",
   "nbconvert_exporter": "python",
   "pygments_lexer": "ipython3",
   "version": "3.12.12"
  }
 },
 "nbformat": 4,
 "nbformat_minor": 5
}
