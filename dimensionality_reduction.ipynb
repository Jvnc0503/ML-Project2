{
 "cells": [
  {
   "cell_type": "markdown",
   "id": "2aa86fb4",
   "metadata": {},
   "source": [
    "# Dimensionality Reduction Analysis\n",
    "\n",
    "## Enviroment Setup"
   ]
  },
  {
   "cell_type": "code",
   "execution_count": null,
   "id": "78893f98",
   "metadata": {},
   "outputs": [],
   "source": [
    "%conda install -c conda-forge numpy pandas scikit-learn matplotlib seaborn -y"
   ]
  },
  {
   "cell_type": "code",
   "execution_count": 2,
   "id": "6ce683da",
   "metadata": {},
   "outputs": [],
   "source": [
    "import numpy as np\n",
    "import pandas as pd\n",
    "from sklearn.decomposition import PCA, TruncatedSVD\n",
    "from sklearn.discriminant_analysis import LinearDiscriminantAnalysis as LDA\n",
    "from sklearn.preprocessing import StandardScaler\n",
    "from sklearn.metrics import silhouette_score, davies_bouldin_score, calinski_harabasz_score\n",
    "from sklearn.cluster import KMeans\n",
    "import matplotlib.pyplot as plt\n",
    "import seaborn as sns\n",
    "import time"
   ]
  },
  {
   "cell_type": "markdown",
   "id": "78cbe9cb",
   "metadata": {},
   "source": [
    "## Load Data"
   ]
  },
  {
   "cell_type": "code",
   "execution_count": 4,
   "id": "e5a2126d",
   "metadata": {},
   "outputs": [
    {
     "name": "stdout",
     "output_type": "stream",
     "text": [
      "Loaded features: (9337, 3345)\n",
      "Loaded movies: 9337\n"
     ]
    }
   ],
   "source": [
    "data = np.load('data/features.npz')\n",
    "movieIds = data['movieId']\n",
    "features = data['features']\n",
    "movies = pd.concat([pd.read_csv('data/train_complete.csv'), pd.read_csv('data/test_complete.csv')], ignore_index=True)\n",
    "\n",
    "print(f\"Loaded features: {features.shape}\")\n",
    "print(f\"Loaded movies: {len(movies)}\")"
   ]
  },
  {
   "cell_type": "markdown",
   "id": "69bc8c01",
   "metadata": {},
   "source": [
    "## Standarize Features"
   ]
  },
  {
   "cell_type": "code",
   "execution_count": 5,
   "id": "004d8fd3",
   "metadata": {},
   "outputs": [],
   "source": [
    "scaler = StandardScaler()\n",
    "features_scaled = scaler.fit_transform(features)\n",
    "\n",
    "n_components = 100"
   ]
  },
  {
   "cell_type": "markdown",
   "id": "c7a4869c",
   "metadata": {},
   "source": [
    "## PCA"
   ]
  },
  {
   "cell_type": "code",
   "execution_count": 11,
   "id": "aa2c1e7e",
   "metadata": {},
   "outputs": [
    {
     "name": "stdout",
     "output_type": "stream",
     "text": [
      "Time: 1.08s\n",
      "Shape: (9337, 100)\n",
      "Explained Variance Ratio: 0.4363\n"
     ]
    }
   ],
   "source": [
    "start = time.time()\n",
    "pca = PCA(n_components=n_components, random_state=42)\n",
    "features_pca = pca.fit_transform(features_scaled)\n",
    "end = time.time()\n",
    "pca_time = end - start\n",
    "\n",
    "print(f\"Time: {pca_time:.2f}s\")\n",
    "print(f\"Shape: {features_pca.shape}\")\n",
    "print(f\"Explained Variance Ratio: {pca.explained_variance_ratio_.sum():.4f}\")"
   ]
  },
  {
   "cell_type": "markdown",
   "id": "37569574",
   "metadata": {},
   "source": [
    "## SVD"
   ]
  },
  {
   "cell_type": "code",
   "execution_count": 12,
   "id": "450bf48a",
   "metadata": {},
   "outputs": [
    {
     "name": "stdout",
     "output_type": "stream",
     "text": [
      "Time: 0.90s\n",
      "Shape: (9337, 100)\n",
      "Explained Variance Ratio: 0.4355\n"
     ]
    }
   ],
   "source": [
    "start = time.time()\n",
    "svd = TruncatedSVD(n_components=n_components, random_state=42)\n",
    "features_svd = svd.fit_transform(features_scaled)\n",
    "end = time.time()\n",
    "svd_time = end - start\n",
    "\n",
    "print(f\"Time: {svd_time:.2f}s\")\n",
    "print(f\"Shape: {features_svd.shape}\")\n",
    "print(f\"Explained Variance Ratio: {svd.explained_variance_ratio_.sum():.4f}\")"
   ]
  },
  {
   "cell_type": "markdown",
   "id": "212bb000",
   "metadata": {},
   "source": [
    "## LDA"
   ]
  },
  {
   "cell_type": "code",
   "execution_count": 13,
   "id": "7e67ca85",
   "metadata": {},
   "outputs": [
    {
     "name": "stdout",
     "output_type": "stream",
     "text": [
      "Time: 7.48s\n",
      "Shape: (9153, 10)\n",
      "Explained Variance Ratio: 1.0000\n",
      "Movies used: 9153/9337\n"
     ]
    }
   ],
   "source": [
    "genres_series = movies.set_index('movieId')['genres'].reindex(movieIds)\n",
    "genres_available = genres_series.notna()\n",
    "\n",
    "genres_split = genres_series[genres_available].str.split('|')\n",
    "primary_genre = genres_split.str[0]\n",
    "\n",
    "unique_genres = primary_genre.value_counts()\n",
    "top_genres = unique_genres[unique_genres >= 50].index.tolist()\n",
    "\n",
    "genre_mask = primary_genre.isin(top_genres)\n",
    "\n",
    "features_for_lda = features_scaled[genres_available][genre_mask]\n",
    "labels_for_lda = primary_genre[genre_mask]\n",
    "\n",
    "n_classes = len(labels_for_lda.unique())\n",
    "n_components_lda = min(n_classes - 1, features_for_lda.shape[1], n_components)\n",
    "\n",
    "start = time.time()\n",
    "lda = LDA(n_components=n_components_lda)\n",
    "features_lda = lda.fit_transform(features_for_lda, labels_for_lda)\n",
    "end = time.time()\n",
    "lda_time = end - start\n",
    "\n",
    "print(f\"Time: {lda_time:.2f}s\")\n",
    "print(f\"Shape: {features_lda.shape}\")\n",
    "print(f\"Explained Variance Ratio: {np.sum(lda.explained_variance_ratio_):.4f}\")\n",
    "print(f\"Movies used: {len(features_for_lda)}/{len(movieIds)}\")"
   ]
  }
 ],
 "metadata": {
  "kernelspec": {
   "display_name": "Python 3",
   "language": "python",
   "name": "python3"
  },
  "language_info": {
   "codemirror_mode": {
    "name": "ipython",
    "version": 3
   },
   "file_extension": ".py",
   "mimetype": "text/x-python",
   "name": "python",
   "nbconvert_exporter": "python",
   "pygments_lexer": "ipython3",
   "version": "3.12.12"
  }
 },
 "nbformat": 4,
 "nbformat_minor": 5
}
